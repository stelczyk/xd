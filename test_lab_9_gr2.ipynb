{
 "cells": [
  {
   "cell_type": "markdown",
   "id": "8564e1d6",
   "metadata": {
    "nbgrader": {
     "grade": false,
     "grade_id": "cell-cd61064ccd9efc86",
     "locked": true,
     "schema_version": 3,
     "solution": false,
     "task": false
    }
   },
   "source": [
    "Przed rozpoczęciem pracy z notatnikiem zmień jego nazwę zgodnie z wzorem: `NrAlbumu_Nazwisko_Imie_PoprzedniaNazwa`\n",
    "\n",
    "Przed wysłaniem notatnika **upewnij się jeszcze raz** że zmieniłeś nazwę i że rozwiązałeś wszystkie zadania/ćwiczenia, w szczególności, że uzupełniłeś wszystkie pola `YOUR CODE HERE` oraz `YOUR ANSWER HERE`."
   ]
  },
  {
   "cell_type": "markdown",
   "id": "e3f5b59d",
   "metadata": {
    "nbgrader": {
     "grade": false,
     "grade_id": "cell-92513b6d03e6ba91",
     "locked": true,
     "schema_version": 3,
     "solution": false,
     "task": false
    }
   },
   "source": [
    "## UWAGA !!!\n",
    "### klasy (również wyjatków), proszę  udokumentować odpowiednimi Docstringami, metody, atrybuty (oraz argumenty w przypadku wyjątków) proszę tylko wymienić i niekoniecznie je opisywać z uwagi na limit czasowy kolokwium\n",
    "- odpowiednie to takie z których utworzona będzie właściwa dokumentacja np. przy pomocy Sphinxa\n",
    "\n",
    "### metody wystarczy udokumentować przy pomocy mechanizmu \"type hinting\". Jeśli jednak nie robimy przy pomocy \"type hinting\" to należy je udokomentować odpowiednimi Docstringami\n",
    "\n",
    "### Proszę zachować dokładnie te same nazwy klas, metod i wyjatków oraz zwracanych komunikatów jak podano w treści zadań (najlepiej je kopiować). Nazwy te są `zwykle_w_takim_stylu`\n",
    "\n",
    "### Wszędzie gdzie napotkasz `pass` zastąp go odpowiednim kodem\n",
    "\n",
    "### Kryteria oceny (głównie na podstawie opisanych w treści zadań wymagań):\n",
    "- dokumentacja przy użyciu docstringów w jednym z wybranych, popularnych stylów\n",
    "- pozytywne przejście doctestów\n",
    "- spełnienie wymogów opisanych pogrubioną czcionką\n",
    "- poprawne zaimplementowanie metod oraz klas wyjątków których nazwy wyspecyfikowano w opisach zadań <br>\n",
    "Wysokość oceny jest proporcjonalna do ilości spełnionych wymagań"
   ]
  },
  {
   "cell_type": "markdown",
   "id": "242eefe4",
   "metadata": {
    "nbgrader": {
     "grade": false,
     "grade_id": "cell-483ed059e820c9a9",
     "locked": true,
     "schema_version": 3,
     "solution": false,
     "task": false
    }
   },
   "source": [
    "## Zadanie 1\n",
    "\n",
    "#### Utwórz:\n",
    "- klasę `Moneta` zawierającą prywatne pola (__instancji__) opisujące jej wartość i walutę,<br>\n",
    "- klasa `Moneta` ma zawierać również jedną zmienną __klasową__ o nazwie `investment` która będzie miała stałą wartość typu string: `'monetary'`\n",
    "- konstruktor ustawiający monetę na wartość i walutę przesłane jako argumenty, <br>konstruktor powinien sprawdzać, czy moneta ma jedną z dozwolonych wartości z listy `ALLOWED_VALUES`,\n",
    "oraz należy do jednej z dozwolonych walut z listy `CURRENCIES`.\n",
    "- Jeśli nie jest spełniony wymagany warunek dla wartości to należy zgłosić wyjątek o nazwie `BadValue` z argumentem będącym niedozwoloną wartością i powinien zostać wypisany napis: `bad_value: xxx`), gdzie xxx jest niedozwoloną wartością.\n",
    "- Jeśli nie jest spełniony wymagany warunek dla waluty to należy zgłosić wyjątek o nazwie `UnknownCurrency` z argumentem będącym nazwą niedozwolonej waluty i powinien zostać wypisany napis: `unknown_currency: xxx`), gdzie xxx jest nazwą niedozwolonej waluty. \n",
    "- uwaga - klasy wyjątków należy zaimplementować !\n",
    "- metodę klasy `get_value`do pobrania wartości\n",
    "- metodę klasy `get_currency` do pobrania waluty\n",
    "- metodę klasy `investment_type` do wypisania wartośc zmiennej klasowej `investment`. (wypisywana (print) jest tylko wartość tej zmienne bez dodatkowych informacji)\n",
    "- metodę klasy `__repr__()` zwracającą tekstową reprezentację monety (informacje do debugowania, które po skopiowaniu i wklejeniu do interpretera utworzą obiekt klasy Moneta, lub utworzą go za pomocą `eval`).\n",
    "\n",
    "#### Uwagi:\n",
    "- `ALLOWED_VALUES` i `CURRENCIES` nie są atrubutami klas ani obiektów definiowanych klas - są globalne.\n",
    "- Waluta jest parametrem __domyślnym__ i przyjmuje wartość `NLP` gdy nie jest podana. \n",
    "- Do zapamiętania/przechowania liczby zmiennoprzecinkowej użyj modułu `decimal`.<br>\n",
    "https://docs.python.org/3/library/decimal.html?highlight=decimal#module-decimal"
   ]
  },
  {
   "cell_type": "code",
   "execution_count": null,
   "id": "eba008a1088b8326",
   "metadata": {
    "collapsed": false,
    "jupyter": {
     "outputs_hidden": false
    }
   },
   "outputs": [],
   "source": [
    "# podaj wybrany przez siebie i konsekwentnie dalej stosowany styl docstringów:\n",
    "\n",
    "doc_type = ''\n",
    "print(doc_type)"
   ]
  },
  {
   "cell_type": "code",
   "execution_count": null,
   "id": "d1789135",
   "metadata": {
    "nbgrader": {
     "grade": true,
     "grade_id": "cell-2ce958bf68a3a197",
     "locked": false,
     "points": 0,
     "schema_version": 3,
     "solution": true,
     "task": false
    }
   },
   "outputs": [],
   "source": [
    "from decimal import *\n",
    "\n",
    "ALLOWED_VALUES = [0.01, 0.02, 0.05, 0.1, 0.2, 0.5, 1, 2, 5, 10, 20, 50, 100, 200, 500, 1000, 2000, 5000]\n",
    "CURRENCIES = ['NLP', 'RUE', 'PG', 'ASU']\n",
    "\n",
    "### BEGIN SOLUTION:\n",
    "\n",
    "class BadValue(Exception):\n",
    "    \"\"\"Wyjątek zgłaszany, gdy wartość monety jest niedozwolona.\n",
    "\n",
    "    Attributes:\n",
    "        illegal_value: niedozwolona wartość monety\n",
    "    \"\"\"\n",
    "    def __init__(self, illegal_value):\n",
    "        self.illegal_value = illegal_value\n",
    "    def __str__(self):\n",
    "        return f\"bad_value: {self.illegal_value}\"\n",
    "\n",
    "class UnknownCurrency(Exception):\n",
    "    \"\"\"Wyjątek zgłaszany, gdy waluta monety jest nieznana.\n",
    "\n",
    "    Attributes:\n",
    "        illegal_currency: nieznana waluta\n",
    "    \"\"\"\n",
    "    def __init__(self, illegal_currency):\n",
    "        self.illegal_currency = illegal_currency\n",
    "    def __str__(self):\n",
    "        return f\"unknown_currency: {self.illegal_currency}\"\n",
    "\n",
    "class Moneta:\n",
    "    \"\"\"Reprezentuje monetę o określonej wartości i walucie.\n",
    "\n",
    "    Attributes:\n",
    "        _wartosc (Decimal): wartość monety\n",
    "        _waluta (str): waluta monety\n",
    "        investment (str): typ inwestycji (zmienna klasowa)\n",
    "\n",
    "    Methods:\n",
    "        get_value() -> Decimal: Zwraca wartość monety\n",
    "        get_currency() -> str: Zwraca walutę monety\n",
    "        investment_type() -> None: Wypisuje typ inwestycji\n",
    "    \"\"\"\n",
    "    investment: str = 'monetary'\n",
    "\n",
    "    def __init__(self, wartosc: float, waluta: str = 'NLP'):\n",
    "        if wartosc not in ALLOWED_VALUES:\n",
    "            raise BadValue(wartosc)\n",
    "        if waluta not in CURRENCIES:\n",
    "            raise UnknownCurrency(waluta)\n",
    "        self._wartosc: Decimal = Decimal(str(wartosc))\n",
    "        self._waluta: str = waluta\n",
    "\n",
    "    def get_value(self) -> Decimal:\n",
    "        \"\"\"Zwraca wartość monety.\"\"\"\n",
    "        return self._wartosc\n",
    "\n",
    "    def get_currency(self) -> str:\n",
    "        \"\"\"Zwraca walutę monety.\"\"\"\n",
    "        return self._waluta\n",
    "\n",
    "    def investment_type(self) -> None:\n",
    "        \"\"\"Wypisuje typ inwestycji (zmienna klasowa 'investment').\"\"\"\n",
    "        print(self.__class__.investment)\n",
    "\n",
    "    def __repr__(self) -> str:\n",
    "        return f\"Moneta({(self.get_value())}, '{self.get_currency()}')\"\n",
    "\n",
    "    def __eq__(self, other) -> bool:\n",
    "        return (\n",
    "            isinstance(other, Moneta) and\n",
    "            self.get_value() == other.get_value() and\n",
    "            self.get_currency() == other.get_currency()\n",
    "        )\n",
    "\n",
    "### END SOLUTION"
   ]
  },
  {
   "cell_type": "code",
   "execution_count": 2,
   "id": "24e38d1a",
   "metadata": {
    "nbgrader": {
     "grade": true,
     "grade_id": "cell-81600fa5084778d5",
     "locked": false,
     "points": 0,
     "schema_version": 3,
     "solution": true,
     "task": false
    }
   },
   "outputs": [
    {
     "name": "stdout",
     "output_type": "stream",
     "text": [
      "Trying:\n",
      "    moneta = Moneta(1, 'NLP')\n",
      "Expecting nothing\n",
      "ok\n",
      "Trying:\n",
      "    moneta = Moneta(1)\n",
      "Expecting nothing\n",
      "ok\n",
      "Trying:\n",
      "    moneta.get_value()\n",
      "Expecting:\n",
      "    Decimal('1')\n",
      "ok\n",
      "Trying:\n",
      "    moneta2 = eval(repr(moneta))\n",
      "Expecting nothing\n",
      "ok\n",
      "Trying:\n",
      "    moneta2.investment_type()\n",
      "Expecting:\n",
      "    monetary\n",
      "ok\n",
      "Trying:\n",
      "    print(UnknownCurrency('REU'))\n",
      "Expecting:\n",
      "    unknown_currency: REU\n",
      "ok\n",
      "Trying:\n",
      "    print(BadValue(3))\n",
      "Expecting:\n",
      "    bad_value: 3\n",
      "ok\n",
      "13 items had no tests:\n",
      "    __main__.BadValue\n",
      "    __main__.BadValue.__init__\n",
      "    __main__.BadValue.__str__\n",
      "    __main__.Moneta\n",
      "    __main__.Moneta.__eq__\n",
      "    __main__.Moneta.__init__\n",
      "    __main__.Moneta.__repr__\n",
      "    __main__.Moneta.get_currency\n",
      "    __main__.Moneta.get_value\n",
      "    __main__.Moneta.investment_type\n",
      "    __main__.UnknownCurrency\n",
      "    __main__.UnknownCurrency.__init__\n",
      "    __main__.UnknownCurrency.__str__\n",
      "1 items passed all tests:\n",
      "   7 tests in __main__\n",
      "7 tests in 14 items.\n",
      "7 passed and 0 failed.\n",
      "Test passed.\n"
     ]
    },
    {
     "data": {
      "text/plain": [
       "TestResults(failed=0, attempted=7)"
      ]
     },
     "execution_count": 2,
     "metadata": {},
     "output_type": "execute_result"
    }
   ],
   "source": [
    "import doctest\n",
    "#poniższe testy można również dodać do docstringa klasy Moneta aby je przetestować\n",
    "\"\"\"\n",
    ">>> moneta = Moneta(1, 'NLP')\n",
    ">>> moneta = Moneta(1)\n",
    ">>> moneta.get_value()\n",
    "Decimal('1')\n",
    ">>> moneta2 = eval(repr(moneta))\n",
    ">>> moneta2.investment_type()\n",
    "monetary\n",
    ">>> print(UnknownCurrency('REU'))\n",
    "unknown_currency: REU\n",
    ">>> print(BadValue(3))\n",
    "bad_value: 3\n",
    "\"\"\"\n",
    "# doctest.testmod()  \n",
    "doctest.testmod(verbose=True) # -  dostaniemy dokładniejszy opis\n"
   ]
  },
  {
   "cell_type": "markdown",
   "id": "a8a663f83fbfd610",
   "metadata": {
    "collapsed": false,
    "jupyter": {
     "outputs_hidden": false
    }
   },
   "source": [
    "## Zadanie 2\n",
    "\n",
    "#### Utwórz:\n",
    "- klasę `Sakiewka` pozwalającą na przechowywanie monet z zadania 1. Klasa ta powinna zawierać metody:\n",
    "- `dodaj_monete` pozwalającą na dodanie monety do Sakiewki,\n",
    "- `suma` zwracającą łączną wartość przechowywanych monet (niezależnie od waluty),\n",
    "- `zwroc_monete` zwracającą monetę o podanym nominale (pierwszą napotkaną - niezależnie jakiej waluty, moneta jest usuwana z sakiewki), lub wypisującą komunikat `Brak monety o podanym nominale` w przypadku jej braku.\n",
    "- `zwroc_dopuszczone_waluty` zwracającą listę dopuszczonych walut - bez powtórzeń (wyłuskaj z listy dopuszczalnych monet)\n",
    "- `zwroc_dopuszczone_monety` zwracającą listę dopuszczonych monet\n",
    "- `Sakiewka` powinna posiadać prywatne __pole instancji__ zawierające listę dopuszczalnych monet (listę obiektów klasy Moneta, które będą \"przedstawicielami\" monet które mogą być przechowywane w Sakiewce), przesyłaną jako argument konstruktora.\n",
    "#### Uwagi:\n",
    "- lista dopuszczalnych monet przykazywanych jako parametr może się __zmienić__ poza obiektem klasy!, co nie powinno mieć wpływu na jego działanie... (np. może być zmodyfikowana na cele inicjalizacji innej sakiewki) - zwróć więc uwagę na sposób jej tworzenia.\n",
    "- Metoda dodająca monetę powinna sprawdzać, czy przesłany obiekt jest monetą (wykorzystując funkcję `isinstance`). Jeśli obiekt nie jest monetą, funkcja zamiast dodawać go do listy monet powinna wypisać komunikat: `Przesłany obiekt nie jest monetą`. Metoda ta powinna również sprawdzić czy moneta jest na liscie dopuszczalnych monet i nie dodawać jej jesli jej tam nie ma wypisujac komunikat: `Brak monety o zadanym nominale i walucie na liście obsługiwanych monet`. \n",
    "- do klasy `Sakiewka` dodaj metodę `monety_w_sakiewce` będącą generatorem zwracającym kolejno wszystkie przechowywane monety posortowane __malejąco__ po nominale."
   ]
  },
  {
   "cell_type": "code",
   "execution_count": 19,
   "id": "5cca4fb2f1b8e623",
   "metadata": {
    "collapsed": false,
    "jupyter": {
     "outputs_hidden": false
    }
   },
   "outputs": [],
   "source": [
    "### BEGIN SOLUTION \n",
    "import copy"
   ]
  },
  {
   "cell_type": "code",
   "execution_count": 3,
   "id": "993bd734",
   "metadata": {},
   "outputs": [],
   "source": [
    "### BEGIN SOLUTION \n",
    "import copy\n",
    "\n",
    "class Sakiewka:\n",
    "    \"\"\"Klasa Sakiewka przechowująca monety.\n",
    "\n",
    "    Attributes:\n",
    "        _dopuszczone_monety -- lista dopuszczalnych monet (obiekty klasy Moneta)\n",
    "        _monety -- lista przechowywanych monet\n",
    "\n",
    "    Methods:\n",
    "        dodaj_monete -- dodaje monetę do sakiewki\n",
    "        suma -- zwraca sumę nominalów wszystkich monet\n",
    "        zwroc_monete -- zwraca i usuwa monetę o podanym nominale\n",
    "        zwroc_dopuszczone_waluty -- zwraca listę dopuszczonych walut\n",
    "        zwroc_dopuszczone_monety -- zwraca listę dopuszczonych monet\n",
    "        monety_w_sakiewce -- generator zwracający monety posortowane malejąco po nominale\n",
    "    \"\"\"\n",
    "    def __init__(self, dopuszczone_monety):\n",
    "        self._dopuszczone_monety = copy.deepcopy(dopuszczone_monety)\n",
    "        self._monety = []\n",
    "\n",
    "    def dodaj_monete(self, moneta):\n",
    "        if not isinstance(moneta, Moneta):\n",
    "            print(\"Przesłany obiekt nie jest monetą\")\n",
    "            return\n",
    "        if moneta not in self._dopuszczone_monety:\n",
    "            print(\"Brak monety o zadanym nominale i walucie na liście obsługiwanych monet\")\n",
    "            return\n",
    "        self._monety.append(moneta)\n",
    "\n",
    "    def suma(self):\n",
    "        return sum((m.get_value() for m in self._monety), Decimal('0'))\n",
    "\n",
    "    def zwroc_monete(self, nominal):\n",
    "        for i, m in enumerate(self._monety):\n",
    "            if m.get_value() == Decimal(nominal):\n",
    "                moneta = self._monety.pop(i)\n",
    "                print (repr(moneta))\n",
    "                return\n",
    "                \n",
    "        print(\"Brak monety o podanym nominale\")\n",
    "        return None\n",
    "\n",
    "    def zwroc_dopuszczone_waluty(self):\n",
    "        return sorted(list({m.get_currency() for m in self._dopuszczone_monety}))\n",
    "\n",
    "    def zwroc_dopuszczone_monety(self):\n",
    "        return copy.deepcopy(self._dopuszczone_monety)\n",
    "\n",
    "    def monety_w_sakiewce(self):\n",
    "        for m in sorted(self._monety, key=lambda x: x.get_value(), reverse=True):\n",
    "            yield m\n",
    "\n",
    "### END SOLUTION"
   ]
  },
  {
   "cell_type": "code",
   "execution_count": 4,
   "id": "b6bc12ee8f9509d5",
   "metadata": {
    "collapsed": false,
    "jupyter": {
     "outputs_hidden": false
    }
   },
   "outputs": [
    {
     "name": "stdout",
     "output_type": "stream",
     "text": [
      "**********************************************************************\n",
      "File \"__main__\", line 16, in __main__\n",
      "Failed example:\n",
      "    sakiewka.zwroc_monete(5)\n",
      "Expected:\n",
      "    Moneta(5, 'PG')\n",
      "Got:\n",
      "    Moneta(5.0, 'PG')\n",
      "**********************************************************************\n",
      "File \"__main__\", line 20, in __main__\n",
      "Failed example:\n",
      "    for i in sakiewka.monety_w_sakiewce():\n",
      "       print(repr(i))\n",
      "Expected:\n",
      "    Moneta(5, 'NLP')\n",
      "    Moneta(2, 'NLP')\n",
      "Got:\n",
      "    Moneta(5.0, 'NLP')\n",
      "    Moneta(2.0, 'NLP')\n",
      "**********************************************************************\n",
      "File \"__main__\", line 24, in __main__\n",
      "Failed example:\n",
      "    sakiewka.zwroc_dopuszczone_monety()\n",
      "Expected:\n",
      "    [Moneta(1, 'NLP'), Moneta(2, 'NLP'), Moneta(5, 'NLP'), Moneta(5, 'PG')]\n",
      "Got:\n",
      "    [Moneta(1.0, 'NLP'), Moneta(2.0, 'NLP'), Moneta(5.0, 'NLP'), Moneta(5.0, 'PG')]\n",
      "**********************************************************************\n",
      "File \"__main__\", line 28, in __main__\n",
      "Failed example:\n",
      "    sakiewka.zwroc_dopuszczone_monety()\n",
      "Expected:\n",
      "    [Moneta(1, 'NLP'), Moneta(2, 'NLP'), Moneta(5, 'NLP'), Moneta(5, 'PG')]\n",
      "Got:\n",
      "    [Moneta(1.0, 'NLP'), Moneta(2.0, 'NLP'), Moneta(5.0, 'NLP'), Moneta(5.0, 'PG')]\n",
      "**********************************************************************\n",
      "1 items had failures:\n",
      "   4 of  15 in __main__\n",
      "***Test Failed*** 4 failures.\n"
     ]
    },
    {
     "data": {
      "text/plain": [
       "TestResults(failed=4, attempted=15)"
      ]
     },
     "execution_count": 4,
     "metadata": {},
     "output_type": "execute_result"
    }
   ],
   "source": [
    "#testy klasy Sakiewka\n",
    "\"\"\"\n",
    ">>> m_obslugiwane = [Moneta(1), Moneta(2), Moneta(5), Moneta(5, 'PG')]\n",
    ">>> sakiewka = Sakiewka(m_obslugiwane)\n",
    ">>> sorted(sakiewka.zwroc_dopuszczone_waluty())\n",
    "['NLP', 'PG']\n",
    ">>> sakiewka.dodaj_monete(Moneta(10))\n",
    "Brak monety o zadanym nominale i walucie na liście obsługiwanych monet\n",
    ">>> sakiewka.dodaj_monete(Moneta(2, 'NLP'))\n",
    ">>> sakiewka.dodaj_monete(Moneta(5, 'PG'))\n",
    ">>> sakiewka.dodaj_monete(Moneta(5))\n",
    ">>> sakiewka.suma()\n",
    "Decimal('12')\n",
    ">>> sakiewka.zwroc_monete(1000)\n",
    "Brak monety o podanym nominale\n",
    ">>> sakiewka.zwroc_monete(5)\n",
    "Moneta(5, 'PG')\n",
    ">>> sakiewka.suma()\n",
    "Decimal('7')\n",
    ">>> for i in sakiewka.monety_w_sakiewce():\n",
    "...    print(repr(i))\n",
    "Moneta(5, 'NLP')\n",
    "Moneta(2, 'NLP')\n",
    ">>> sakiewka.zwroc_dopuszczone_monety()\n",
    "[Moneta(1, 'NLP'), Moneta(2, 'NLP'), Moneta(5, 'NLP'), Moneta(5, 'PG')]\n",
    ">>> #test na poprawne skopiowanie listy dopuszczonych monet w konstruktorze:\n",
    ">>> del m_obslugiwane[0]\n",
    ">>> sakiewka.zwroc_dopuszczone_monety()\n",
    "[Moneta(1, 'NLP'), Moneta(2, 'NLP'), Moneta(5, 'NLP'), Moneta(5, 'PG')]\n",
    "\"\"\"\n",
    "doctest.testmod(verbose=False)  #doctest.testmod(verbose=True) -  dostaniemy dokładniejszy opis\n"
   ]
  },
  {
   "cell_type": "code",
   "execution_count": null,
   "id": "e16d5c92-4c52-440e-a3d8-0c8328fd22f5",
   "metadata": {},
   "outputs": [],
   "source": []
  },
  {
   "cell_type": "code",
   "execution_count": null,
   "id": "93d98800-70f7-49e5-8df3-39362e72d697",
   "metadata": {},
   "outputs": [],
   "source": []
  }
 ],
 "metadata": {
  "celltoolbar": "Create Assignment",
  "kernelspec": {
   "display_name": "base",
   "language": "python",
   "name": "python3"
  },
  "language_info": {
   "codemirror_mode": {
    "name": "ipython",
    "version": 3
   },
   "file_extension": ".py",
   "mimetype": "text/x-python",
   "name": "python",
   "nbconvert_exporter": "python",
   "pygments_lexer": "ipython3",
   "version": "3.12.4"
  }
 },
 "nbformat": 4,
 "nbformat_minor": 5
}
